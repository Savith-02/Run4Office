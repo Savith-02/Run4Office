{
 "cells": [
  {
   "cell_type": "code",
   "execution_count": 5,
   "metadata": {},
   "outputs": [],
   "source": [
    "import os\n",
    "from bs4 import BeautifulSoup\n",
    "import sys\n",
    "sys.path.append('e:\\\\WORK\\\\langchains\\\\run4Office')\n",
    "from web_crawler_and_scraper.additional_cleaning import clean_unwanted_links, remove_empty_elements, replace_repeating_opening_tags, replace_repeating_closing_tags\n"
   ]
  },
  {
   "cell_type": "code",
   "execution_count": 6,
   "metadata": {},
   "outputs": [],
   "source": [
    "# Sample HTML snippets for testing\n",
    "sample_html_1 = \"\"\"\n",
    "<html>\n",
    "<head><title>Test Page</title></head>\n",
    "<body>\n",
    "    <a href=\"javascript:void(0)\">Turn off more accessible mode</a>\n",
    "    <a href=\"#\">Skip to main content</a>\n",
    "    <a href=\"https://example.com\">Valid Link</a>\n",
    "    <div>\n",
    "        <p></p>\n",
    "        <p>Some text here.</p>\n",
    "    </div>\n",
    "</body>\n",
    "</html>\n",
    "\"\"\"\n",
    "\n",
    "sample_html_2 = \"\"\"\n",
    "<html>\n",
    "<body>\n",
    "    <div>\n",
    "        <a href=\"javascript:void(0)\">Turn on Animations</a>\n",
    "        <a href=\"#\">Skip Ribbon Commands</a>\n",
    "        <a href=\"https://example.com\">Another Valid Link</a>\n",
    "    </div>\n",
    "    <div>\n",
    "        <p></p>\n",
    "        <p></p>\n",
    "    </div>\n",
    "</body>\n",
    "</html>\n",
    "\"\"\""
   ]
  },
  {
   "cell_type": "code",
   "execution_count": 10,
   "metadata": {},
   "outputs": [
    {
     "name": "stdout",
     "output_type": "stream",
     "text": [
      "Cleaned Links:\n",
      "<html>\n",
      " <head>\n",
      "  <title>\n",
      "   Test Page\n",
      "  </title>\n",
      " </head>\n",
      " <body>\n",
      "  <a href=\"https://example.com\">\n",
      "   Valid Link\n",
      "  </a>\n",
      "  <div>\n",
      "   <p>\n",
      "   </p>\n",
      "   <p>\n",
      "    Some text here.\n",
      "   </p>\n",
      "  </div>\n",
      " </body>\n",
      "</html>\n",
      "\n"
     ]
    }
   ],
   "source": [
    "# Function to test clean_unwanted_links\n",
    "def test_clean_unwanted_links():\n",
    "    soup = BeautifulSoup(sample_html_1, 'html.parser')\n",
    "    cleaned_soup = clean_unwanted_links(soup)\n",
    "    print(\"Cleaned Links:\")\n",
    "    print(cleaned_soup.prettify())\n",
    "test_clean_unwanted_links()"
   ]
  },
  {
   "cell_type": "code",
   "execution_count": 14,
   "metadata": {},
   "outputs": [
    {
     "name": "stdout",
     "output_type": "stream",
     "text": [
      "After Removing Empty Elements:\n",
      "<html>\n",
      " <body>\n",
      "  <div>\n",
      "   <a href=\"javascript:void(0)\">\n",
      "    Turn on Animations\n",
      "   </a>\n",
      "   <a href=\"#\">\n",
      "    Skip Ribbon Commands\n",
      "   </a>\n",
      "   <a href=\"https://example.com\">\n",
      "    Another Valid Link\n",
      "   </a>\n",
      "  </div>\n",
      "  <div>\n",
      "  </div>\n",
      " </body>\n",
      "</html>\n",
      "\n",
      "After Removing Empty Elements:\n",
      "<html>\n",
      " <body>\n",
      "  <div>\n",
      "   <a href=\"javascript:void(0)\">\n",
      "    Turn on Animations\n",
      "   </a>\n",
      "   <a href=\"#\">\n",
      "    Skip Ribbon Commands\n",
      "   </a>\n",
      "   <a href=\"https://example.com\">\n",
      "    Another Valid Link\n",
      "   </a>\n",
      "  </div>\n",
      " </body>\n",
      "</html>\n",
      "\n"
     ]
    },
    {
     "data": {
      "text/plain": [
       "'\\n<html>\\n<body>\\n<div>\\n<a href=\"javascript:void(0)\">Turn on Animations</a>\\n<a href=\"#\">Skip Ribbon Commands</a>\\n<a href=\"https://example.com\">Another Valid Link</a>\\n</div>\\n\\n</body>\\n</html>\\n'"
      ]
     },
     "execution_count": 14,
     "metadata": {},
     "output_type": "execute_result"
    }
   ],
   "source": [
    "# Function to test remove_empty_elements\n",
    "def test_remove_empty_elements(sample_html):\n",
    "    soup = BeautifulSoup(sample_html, 'html.parser')\n",
    "    cleaned_soup = remove_empty_elements(soup)\n",
    "    print(\"After Removing Empty Elements:\")\n",
    "    print(cleaned_soup.prettify()) \n",
    "    return  str(cleaned_soup)\n",
    "cleaned_soup =  test_remove_empty_elements(sample_html_2)\n",
    "test_remove_empty_elements(cleaned_soup)"
   ]
  },
  {
   "cell_type": "code",
   "execution_count": 18,
   "metadata": {},
   "outputs": [],
   "source": [
    "html = \"\"\"\n",
    "<div>\n",
    "  <div>\n",
    "    <p>Text</p>\n",
    "    <p>Text</p>\n",
    "    <div><div><p>Text</p></div></div>\n",
    "  </div>\n",
    "</div>\n",
    "\"\"\""
   ]
  },
  {
   "cell_type": "code",
   "execution_count": 19,
   "metadata": {},
   "outputs": [
    {
     "name": "stdout",
     "output_type": "stream",
     "text": [
      "After Replacing Repeating Opening Tags:\n",
      "\n",
      "<div>\n",
      "    <p>Text</p>\n",
      "    <p>Text</p>\n",
      "    <div><p>Text</p></div></div>\n",
      "  </div>\n",
      "</div>\n",
      "\n"
     ]
    }
   ],
   "source": [
    "# Function to test replace_repeating_opening_tags\n",
    "def test_replace_repeating_opening_tags(html):\n",
    "    cleaned_html = replace_repeating_opening_tags(html)\n",
    "    print(\"After Replacing Repeating Opening Tags:\")\n",
    "    print(cleaned_html)\n",
    "test_replace_repeating_opening_tags(html)"
   ]
  },
  {
   "cell_type": "code",
   "execution_count": 20,
   "metadata": {},
   "outputs": [
    {
     "name": "stdout",
     "output_type": "stream",
     "text": [
      "After Replacing Repeating Closing Tags:\n",
      "\n",
      "<div>\n",
      "  <div>\n",
      "    <p>Text</p>\n",
      "    <p>Text</p>\n",
      "    <div><div><p>Text</p></div>\n",
      "\n"
     ]
    }
   ],
   "source": [
    "# Function to test replace_repeating_closing_tags\n",
    "def test_replace_repeating_closing_tags(html):\n",
    "    cleaned_html = replace_repeating_closing_tags(html)\n",
    "    print(\"After Replacing Repeating Closing Tags:\")\n",
    "    print(cleaned_html)\n",
    "test_replace_repeating_closing_tags(html)"
   ]
  },
  {
   "cell_type": "code",
   "execution_count": null,
   "metadata": {},
   "outputs": [],
   "source": []
  }
 ],
 "metadata": {
  "kernelspec": {
   "display_name": ".venv",
   "language": "python",
   "name": "python3"
  },
  "language_info": {
   "codemirror_mode": {
    "name": "ipython",
    "version": 3
   },
   "file_extension": ".py",
   "mimetype": "text/x-python",
   "name": "python",
   "nbconvert_exporter": "python",
   "pygments_lexer": "ipython3",
   "version": "3.12.6"
  }
 },
 "nbformat": 4,
 "nbformat_minor": 2
}
