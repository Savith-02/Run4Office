{
 "cells": [
  {
   "cell_type": "code",
   "execution_count": 16,
   "metadata": {},
   "outputs": [],
   "source": [
    "from bs4 import BeautifulSoup\n",
    "import os"
   ]
  },
  {
   "cell_type": "code",
   "execution_count": 25,
   "metadata": {},
   "outputs": [],
   "source": [
    "import sys\n",
    "sys.path.append('e:\\\\WORK\\\\langchains\\\\run4Office')\n",
    "from web_crawler_and_scraper.clean_html import remove_specific_tags, remove_unwanted_attributes, remove_comments, remove_empty_elements, remove_attributes\n"
   ]
  },
  {
   "cell_type": "code",
   "execution_count": 29,
   "metadata": {},
   "outputs": [],
   "source": [
    "# Sample HTML for testing\n",
    "sample_html = \"\"\"\n",
    "<!DOCTYPE html>\n",
    "<html>\n",
    "<head>\n",
    "    <title>Test Page</title>\n",
    "    <style>body {font-size: 12px;}</style>\n",
    "</head>\n",
    "<body>\n",
    "    <!-- This is a comment -->\n",
    "    <script>alert('Hello');</script>\n",
    "    <div class=\"content\" style=\"padding: 10px;\">\n",
    "        <p>Some text here.</p>\n",
    "        <p></p>\n",
    "        <img src=\"image.jpg\" alt=\"Image\">\n",
    "        <a href=\"javascript:void(0)\">Turn off more accessible mode</a>\n",
    "        <a href=\"#\">Skip to main content</a>\n",
    "        <a href=\"https://example.com\">Valid Link</a>\n",
    "    </div>\n",
    "    <div class=\"hidden\" id=\"hiddenDiv\" style=\"display:none;\"></div>\n",
    "</body>\n",
    "</html>\n",
    "\"\"\""
   ]
  },
  {
   "cell_type": "code",
   "execution_count": 23,
   "metadata": {},
   "outputs": [
    {
     "name": "stdout",
     "output_type": "stream",
     "text": [
      "After Removing Specific Tags:\n",
      "<html>\n",
      " <head>\n",
      "  <title>\n",
      "   Test Page\n",
      "  </title>\n",
      " </head>\n",
      " <body>\n",
      "  <!-- This is a comment -->\n",
      "  <div class=\"content\" style=\"padding: 10px;\">\n",
      "   <p>\n",
      "    Some text here.\n",
      "   </p>\n",
      "   <p>\n",
      "   </p>\n",
      "   <a href=\"javascript:void(0)\">\n",
      "    Turn off more accessible mode\n",
      "   </a>\n",
      "   <a href=\"#\">\n",
      "    Skip to main content\n",
      "   </a>\n",
      "   <a href=\"https://example.com\">\n",
      "    Valid Link\n",
      "   </a>\n",
      "  </div>\n",
      "  <div class=\"hidden\" id=\"hiddenDiv\" style=\"display:none;\">\n",
      "  </div>\n",
      " </body>\n",
      "</html>\n",
      "\n"
     ]
    }
   ],
   "source": [
    "soup = BeautifulSoup(sample_html, 'html.parser')\n",
    "remove_specific_tags(soup, ['script', 'style', 'img'])\n",
    "print(\"After Removing Specific Tags:\")\n",
    "print(soup.prettify())"
   ]
  },
  {
   "cell_type": "code",
   "execution_count": 26,
   "metadata": {},
   "outputs": [
    {
     "name": "stdout",
     "output_type": "stream",
     "text": [
      "After Removing Attributes:\n",
      "<html>\n",
      " <head>\n",
      "  <title>\n",
      "   Test Page\n",
      "  </title>\n",
      "  <style>\n",
      "   body {font-size: 12px;}\n",
      "  </style>\n",
      " </head>\n",
      " <body>\n",
      "  <!-- This is a comment -->\n",
      "  <script>\n",
      "   alert('Hello');\n",
      "  </script>\n",
      "  <div class=\"content\">\n",
      "   <p>\n",
      "    Some text here.\n",
      "   </p>\n",
      "   <p>\n",
      "   </p>\n",
      "   <img alt=\"Image\" src=\"image.jpg\"/>\n",
      "   <a href=\"javascript:void(0)\">\n",
      "    Turn off more accessible mode\n",
      "   </a>\n",
      "   <a href=\"#\">\n",
      "    Skip to main content\n",
      "   </a>\n",
      "   <a href=\"https://example.com\">\n",
      "    Valid Link\n",
      "   </a>\n",
      "  </div>\n",
      "  <div class=\"hidden\">\n",
      "  </div>\n",
      " </body>\n",
      "</html>\n",
      "\n"
     ]
    }
   ],
   "source": [
    "soup = BeautifulSoup(sample_html, 'html.parser')\n",
    "remove_attributes(soup, ['style', 'id'])\n",
    "print(\"After Removing Attributes:\")\n",
    "print(soup.prettify())\n"
   ]
  },
  {
   "cell_type": "code",
   "execution_count": 30,
   "metadata": {},
   "outputs": [
    {
     "name": "stdout",
     "output_type": "stream",
     "text": [
      "After Removing Comments:\n",
      "<!DOCTYPE html>\n",
      "<html>\n",
      " <head>\n",
      "  <title>\n",
      "   Test Page\n",
      "  </title>\n",
      "  <style>\n",
      "   body {font-size: 12px;}\n",
      "  </style>\n",
      " </head>\n",
      " <body>\n",
      "  <script>\n",
      "   alert('Hello');\n",
      "  </script>\n",
      "  <div class=\"content\" style=\"padding: 10px;\">\n",
      "   <p>\n",
      "    Some text here.\n",
      "   </p>\n",
      "   <p>\n",
      "   </p>\n",
      "   <img alt=\"Image\" src=\"image.jpg\"/>\n",
      "   <a href=\"javascript:void(0)\">\n",
      "    Turn off more accessible mode\n",
      "   </a>\n",
      "   <a href=\"#\">\n",
      "    Skip to main content\n",
      "   </a>\n",
      "   <a href=\"https://example.com\">\n",
      "    Valid Link\n",
      "   </a>\n",
      "  </div>\n",
      "  <div class=\"hidden\" id=\"hiddenDiv\" style=\"display:none;\">\n",
      "  </div>\n",
      " </body>\n",
      "</html>\n",
      "\n"
     ]
    }
   ],
   "source": [
    "\n",
    "soup = BeautifulSoup(sample_html, 'html.parser')\n",
    "remove_comments(soup)\n",
    "print(\"After Removing Comments:\")\n",
    "print(soup.prettify())"
   ]
  },
  {
   "cell_type": "code",
   "execution_count": 28,
   "metadata": {},
   "outputs": [
    {
     "name": "stdout",
     "output_type": "stream",
     "text": [
      "After Removing Doctype:\n",
      "<html>\n",
      " <head>\n",
      "  <title>\n",
      "   Test Page\n",
      "  </title>\n",
      "  <style>\n",
      "   body {font-size: 12px;}\n",
      "  </style>\n",
      " </head>\n",
      " <body>\n",
      "  <!-- This is a comment -->\n",
      "  <script>\n",
      "   alert('Hello');\n",
      "  </script>\n",
      "  <div class=\"content\" style=\"padding: 10px;\">\n",
      "   <p>\n",
      "    Some text here.\n",
      "   </p>\n",
      "   <p>\n",
      "   </p>\n",
      "   <img alt=\"Image\" src=\"image.jpg\"/>\n",
      "   <a href=\"javascript:void(0)\">\n",
      "    Turn off more accessible mode\n",
      "   </a>\n",
      "   <a href=\"#\">\n",
      "    Skip to main content\n",
      "   </a>\n",
      "   <a href=\"https://example.com\">\n",
      "    Valid Link\n",
      "   </a>\n",
      "  </div>\n",
      "  <div class=\"hidden\" id=\"hiddenDiv\" style=\"display:none;\">\n",
      "  </div>\n",
      " </body>\n",
      "</html>\n",
      "\n"
     ]
    }
   ],
   "source": [
    "from web_crawler_and_scraper.clean_html import remove_doctype\n",
    "soup = BeautifulSoup(\"<!DOCTYPE html>\" + sample_html, 'html.parser')\n",
    "remove_doctype(soup)\n",
    "print(\"After Removing Doctype:\")\n",
    "print(soup.prettify())"
   ]
  },
  {
   "cell_type": "code",
   "execution_count": 31,
   "metadata": {},
   "outputs": [
    {
     "name": "stdout",
     "output_type": "stream",
     "text": [
      "After Removing Elements by Class Pattern:\n",
      "<!DOCTYPE html>\n",
      "<html>\n",
      " <head>\n",
      "  <title>\n",
      "   Test Page\n",
      "  </title>\n",
      "  <style>\n",
      "   body {font-size: 12px;}\n",
      "  </style>\n",
      " </head>\n",
      " <body>\n",
      "  <!-- This is a comment -->\n",
      "  <script>\n",
      "   alert('Hello');\n",
      "  </script>\n",
      "  <div class=\"content\" style=\"padding: 10px;\">\n",
      "   <p>\n",
      "    Some text here.\n",
      "   </p>\n",
      "   <p>\n",
      "   </p>\n",
      "   <img alt=\"Image\" src=\"image.jpg\"/>\n",
      "   <a href=\"javascript:void(0)\">\n",
      "    Turn off more accessible mode\n",
      "   </a>\n",
      "   <a href=\"#\">\n",
      "    Skip to main content\n",
      "   </a>\n",
      "   <a href=\"https://example.com\">\n",
      "    Valid Link\n",
      "   </a>\n",
      "  </div>\n",
      " </body>\n",
      "</html>\n",
      "\n"
     ]
    }
   ],
   "source": [
    "from web_crawler_and_scraper.clean_html import remove_elements_by_class_pattern\n",
    "soup = BeautifulSoup(sample_html, 'html.parser')\n",
    "remove_elements_by_class_pattern(soup, [r'^hidden'])\n",
    "print(\"After Removing Elements by Class Pattern:\")\n",
    "print(soup.prettify())"
   ]
  },
  {
   "cell_type": "code",
   "execution_count": 32,
   "metadata": {},
   "outputs": [
    {
     "name": "stdout",
     "output_type": "stream",
     "text": [
      "After Removing Elements by ID Pattern:\n",
      "<!DOCTYPE html>\n",
      "<html>\n",
      " <head>\n",
      "  <title>\n",
      "   Test Page\n",
      "  </title>\n",
      "  <style>\n",
      "   body {font-size: 12px;}\n",
      "  </style>\n",
      " </head>\n",
      " <body>\n",
      "  <!-- This is a comment -->\n",
      "  <script>\n",
      "   alert('Hello');\n",
      "  </script>\n",
      "  <div class=\"content\" style=\"padding: 10px;\">\n",
      "   <p>\n",
      "    Some text here.\n",
      "   </p>\n",
      "   <p>\n",
      "   </p>\n",
      "   <img alt=\"Image\" src=\"image.jpg\"/>\n",
      "   <a href=\"javascript:void(0)\">\n",
      "    Turn off more accessible mode\n",
      "   </a>\n",
      "   <a href=\"#\">\n",
      "    Skip to main content\n",
      "   </a>\n",
      "   <a href=\"https://example.com\">\n",
      "    Valid Link\n",
      "   </a>\n",
      "  </div>\n",
      " </body>\n",
      "</html>\n",
      "\n"
     ]
    }
   ],
   "source": [
    "from web_crawler_and_scraper.clean_html import remove_elements_by_id_pattern\n",
    "soup = BeautifulSoup(sample_html, 'html.parser')\n",
    "remove_elements_by_id_pattern(soup, [r'^hidden'])\n",
    "print(\"After Removing Elements by ID Pattern:\")\n",
    "print(soup.prettify())"
   ]
  },
  {
   "cell_type": "code",
   "execution_count": 33,
   "metadata": {},
   "outputs": [
    {
     "name": "stdout",
     "output_type": "stream",
     "text": [
      "After Removing Unwanted Attributes:\n",
      "<!DOCTYPE html>\n",
      "<html>\n",
      " <head>\n",
      "  <title>\n",
      "   Test Page\n",
      "  </title>\n",
      "  <style>\n",
      "   body {font-size: 12px;}\n",
      "  </style>\n",
      " </head>\n",
      " <body>\n",
      "  <!-- This is a comment -->\n",
      "  <script>\n",
      "   alert('Hello');\n",
      "  </script>\n",
      "  <div>\n",
      "   <p>\n",
      "    Some text here.\n",
      "   </p>\n",
      "   <p>\n",
      "   </p>\n",
      "   <img alt=\"Image\"/>\n",
      "   <a href=\"javascript:void(0)\">\n",
      "    Turn off more accessible mode\n",
      "   </a>\n",
      "   <a href=\"#\">\n",
      "    Skip to main content\n",
      "   </a>\n",
      "   <a href=\"https://example.com\">\n",
      "    Valid Link\n",
      "   </a>\n",
      "  </div>\n",
      "  <div>\n",
      "  </div>\n",
      " </body>\n",
      "</html>\n",
      "\n"
     ]
    }
   ],
   "source": [
    "from web_crawler_and_scraper.clean_html import remove_unwanted_attributes\n",
    "soup = BeautifulSoup(sample_html, 'html.parser')\n",
    "remove_unwanted_attributes(soup, ['href', 'alt'])\n",
    "print(\"After Removing Unwanted Attributes:\")\n",
    "print(soup.prettify())"
   ]
  },
  {
   "cell_type": "code",
   "execution_count": null,
   "metadata": {},
   "outputs": [],
   "source": []
  }
 ],
 "metadata": {
  "kernelspec": {
   "display_name": ".venv",
   "language": "python",
   "name": "python3"
  },
  "language_info": {
   "codemirror_mode": {
    "name": "ipython",
    "version": 3
   },
   "file_extension": ".py",
   "mimetype": "text/x-python",
   "name": "python",
   "nbconvert_exporter": "python",
   "pygments_lexer": "ipython3",
   "version": "3.12.6"
  }
 },
 "nbformat": 4,
 "nbformat_minor": 2
}
