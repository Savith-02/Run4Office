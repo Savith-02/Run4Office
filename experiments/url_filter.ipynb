{
 "cells": [
  {
   "cell_type": "code",
   "execution_count": 19,
   "metadata": {},
   "outputs": [],
   "source": [
    "import os\n",
    "from typing import Set\n",
    "os.chdir(\"e:\\\\WORK\\\\langchains\\\\run4Office\\\\web_crawler_and_scraper\")\n"
   ]
  },
  {
   "cell_type": "code",
   "execution_count": 61,
   "metadata": {},
   "outputs": [],
   "source": [
    "with open(\"./urls/initial_filtered_urls.txt\", \"r\") as f:\n",
    "    urls = set(f.readlines())\n",
    "urls = {url.strip() for url in urls}"
   ]
  },
  {
   "cell_type": "code",
   "execution_count": 71,
   "metadata": {},
   "outputs": [
    {
     "name": "stdout",
     "output_type": "stream",
     "text": [
      "35\n"
     ]
    },
    {
     "data": {
      "text/plain": [
       "{'http://anfindia.org/preventing-us-election-violence-2024.html',\n",
       " 'https://apnews.com/hub/election-2024',\n",
       " 'https://cdn-aarpsite.americantowns.com/news/how-to-vote-in-kentuckys-2024-elections-ky-2024-01-30.html',\n",
       " 'https://chico.ca.us/Departments/City-Clerks-Office-Valid/Election/City-of-Chico-Elections/index.html',\n",
       " 'https://delcopa.gov/council/newsletter/index.html',\n",
       " 'https://delcopa.gov/vote/ballotdropbox.html',\n",
       " 'https://delcopa.gov/vote/pollworkerresources.html',\n",
       " 'https://electionline.org/wp-content/uploads/calendar/2024/electionline-calendar-1702392848.pdf',\n",
       " 'https://elections.maricopa.gov/candidates/what-is-on-my-ballot.html',\n",
       " 'https://elections.maryland.gov/elections/2024/index.html',\n",
       " 'https://elections.maryland.gov/elections/special_elections.html',\n",
       " 'https://en.wikipedia.org/wiki/2024_United_States_elections',\n",
       " 'https://en.wikipedia.org/wiki/2024_United_States_state_legislative_elections',\n",
       " 'https://justfacts.votesmart.org/elections',\n",
       " 'https://oklahoma.gov/elections.html',\n",
       " 'https://oklahoma.gov/elections/voter-registration/register-to-vote.html',\n",
       " 'https://sfelections.org/results/20241105w/index.html',\n",
       " 'https://sos.ks.gov/elections/important-election-dates.html',\n",
       " 'https://statesunited.org/about/careers/',\n",
       " 'https://vrcdn.electionsfl.org/StaticPages/okeechobee.html?source=https://www.voteokeechobee.gov/LinkClick.aspx?link=http%3A%2F%2Fwww.co.okeechobee.fl.us%2F&tabid=6676&portalid=76&mid=11463',\n",
       " 'https://www.aljazeera.com/news/2024/11/5/us-election-2024-the-key-issues-driving-votes-in-the-swing-states',\n",
       " 'https://www.brookings.edu/projects/election-24-issues-at-stake/jobs-economy-opportunity/',\n",
       " 'https://www.dispatch.com/story/news/politics/elections/2024/11/05/election-results-central-ohio-2024-ballot-issues/75825272007/',\n",
       " 'https://www.dover.nh.gov/services/online-services/news-events/news-2024/election-results-voter-turnout-available-online.html',\n",
       " 'https://www.eac.gov/news/2024/12/11/state-and-local-election-officials-across-country-highlight-successes-and',\n",
       " 'https://www.electionsonthe.net/lookup.html?r=4&code=OH086',\n",
       " 'https://www.maine.gov/sos/cec/elec/upcoming/index.html',\n",
       " 'https://www.naco.org/resource/us-elections-analysis-2024-key-outcomes-insights-counties',\n",
       " 'https://www.nlc.org/article/2024/10/30/how-the-upcoming-election-is-an-opportunity-to-improve-local-civil-discourse/',\n",
       " 'https://www.nytimes.com/2024/08/16/opinion/ezra-klein-podcast-election.html',\n",
       " 'https://www.pa.gov/agencies/vote/elections/fact-checking-pa-related-election-claims.html',\n",
       " 'https://www.politico.com/2024-election/results/schedule-calendar-key-dates-events/',\n",
       " 'https://www.seyfarth.com/election-2024-labor-employment-special-report.html',\n",
       " 'https://www.stateside.com/election/2024-local-elections',\n",
       " 'https://www.usa.gov/state-local-elections'}"
      ]
     },
     "execution_count": 71,
     "metadata": {},
     "output_type": "execute_result"
    }
   ],
   "source": [
    "print(len(urls))\n",
    "urls"
   ]
  },
  {
   "cell_type": "code",
   "execution_count": 30,
   "metadata": {},
   "outputs": [],
   "source": [
    "# not_wanted_urls = {\n",
    "#     \"ballotpedia.org\",\n",
    "#     \"facebook.com\",\n",
    "#     \"twitter.com\",\n",
    "#     \"delcopa.gov\",\n",
    "#     \"oklahoma.gov\",\n",
    "# }"
   ]
  },
  {
   "cell_type": "code",
   "execution_count": 63,
   "metadata": {},
   "outputs": [],
   "source": [
    "from typing import Set, Dict, Any\n",
    "from urllib.parse import urlparse\n",
    "\n",
    "def filter_urls(urls: Set[str], config: Dict[str, Any]) -> Set[str]:\n",
    "    \"\"\"\n",
    "    Filters URLs based on a configuration object using urllib.parse for parsing.\n",
    "\n",
    "    Parameters:\n",
    "        urls (Set[str]): The set of URLs to filter.\n",
    "        config (Dict[str, Any]): Configuration object containing filter criteria:\n",
    "            - \"exclude_domains\" (Set[str]): Domains to exclude from URLs.\n",
    "            - \"include_domains\" (Set[str], optional): Domains to include in URLs.\n",
    "            - \"exclude_paths\" (Set[str], optional): Substrings in paths to exclude.\n",
    "            - \"include_paths\" (Set[str], optional): Substrings in paths to include.\n",
    "            - \"schemes\" (Set[str], optional): Allowed schemes (e.g., \"https\", \"http\").\n",
    "            - \"max_length\" (int, optional): Maximum length of the URL.\n",
    "\n",
    "    Returns:\n",
    "        Set[str]: The filtered set of URLs.\n",
    "    \"\"\"\n",
    "    exclude_domains = config.get(\"exclude_domains\", set())\n",
    "    include_domains = config.get(\"include_domains\", set())\n",
    "    exclude_paths = config.get(\"exclude_paths\", set())\n",
    "    include_paths = config.get(\"include_paths\", set())\n",
    "    schemes = config.get(\"schemes\", {\"http\", \"https\"})\n",
    "    max_length = config.get(\"max_length\", None)\n",
    "\n",
    "    filtered_urls = set()\n",
    "\n",
    "    for url in urls:\n",
    "        parsed_url = urlparse(url)\n",
    "\n",
    "        # Check scheme\n",
    "        if schemes and parsed_url.scheme not in schemes:\n",
    "            continue\n",
    "\n",
    "        # Check domain (netloc)\n",
    "        domain = parsed_url.netloc\n",
    "        if domain in exclude_domains:\n",
    "            continue\n",
    "        if include_domains and domain not in include_domains:\n",
    "            continue\n",
    "\n",
    "        # Check path\n",
    "        path = parsed_url.path\n",
    "        if any(exclude in path for exclude in exclude_paths):\n",
    "            continue\n",
    "        if include_paths and not any(include in path for include in include_paths):\n",
    "            continue\n",
    "\n",
    "        # Check URL length\n",
    "        if max_length and len(url) > max_length:\n",
    "            continue\n",
    "\n",
    "        filtered_urls.add(url)\n",
    "\n",
    "    return filtered_urls\n"
   ]
  },
  {
   "cell_type": "code",
   "execution_count": 89,
   "metadata": {},
   "outputs": [],
   "source": [
    "config = {\n",
    "    \"exclude_domains\": {\"ballotpedia.org\", \"delcopa.gov\", \"oklahoma.gov\"},\n",
    "    \"include_domains\": {},\n",
    "    \"exclude_paths\": {},\n",
    "    \"include_paths\": {},\n",
    "    \"schemes\": { \"https\"},\n",
    "    \"max_length\": 1000\n",
    "}"
   ]
  },
  {
   "cell_type": "code",
   "execution_count": 90,
   "metadata": {},
   "outputs": [
    {
     "name": "stdout",
     "output_type": "stream",
     "text": [
      "29\n",
      "https://www.nlc.org/article/2024/10/30/how-the-upcoming-election-is-an-opportunity-to-improve-local-civil-discourse/\n",
      "https://elections.maryland.gov/elections/special_elections.html\n",
      "https://elections.maryland.gov/elections/2024/index.html\n",
      "https://chico.ca.us/Departments/City-Clerks-Office-Valid/Election/City-of-Chico-Elections/index.html\n",
      "https://justfacts.votesmart.org/elections\n",
      "https://sos.ks.gov/elections/important-election-dates.html\n",
      "https://www.eac.gov/news/2024/12/11/state-and-local-election-officials-across-country-highlight-successes-and\n",
      "https://cdn-aarpsite.americantowns.com/news/how-to-vote-in-kentuckys-2024-elections-ky-2024-01-30.html\n",
      "https://www.seyfarth.com/election-2024-labor-employment-special-report.html\n",
      "https://apnews.com/hub/election-2024\n",
      "https://www.maine.gov/sos/cec/elec/upcoming/index.html\n",
      "https://www.electionsonthe.net/lookup.html?r=4&code=OH086\n",
      "https://www.pa.gov/agencies/vote/elections/fact-checking-pa-related-election-claims.html\n",
      "https://www.stateside.com/election/2024-local-elections\n",
      "https://elections.maricopa.gov/candidates/what-is-on-my-ballot.html\n",
      "https://statesunited.org/about/careers/\n",
      "https://en.wikipedia.org/wiki/2024_United_States_elections\n",
      "https://www.aljazeera.com/news/2024/11/5/us-election-2024-the-key-issues-driving-votes-in-the-swing-states\n",
      "https://www.dover.nh.gov/services/online-services/news-events/news-2024/election-results-voter-turnout-available-online.html\n",
      "https://vrcdn.electionsfl.org/StaticPages/okeechobee.html?source=https://www.voteokeechobee.gov/LinkClick.aspx?link=http%3A%2F%2Fwww.co.okeechobee.fl.us%2F&tabid=6676&portalid=76&mid=11463\n",
      "https://www.usa.gov/state-local-elections\n",
      "https://www.dispatch.com/story/news/politics/elections/2024/11/05/election-results-central-ohio-2024-ballot-issues/75825272007/\n",
      "https://www.nytimes.com/2024/08/16/opinion/ezra-klein-podcast-election.html\n",
      "https://electionline.org/wp-content/uploads/calendar/2024/electionline-calendar-1702392848.pdf\n",
      "https://sfelections.org/results/20241105w/index.html\n",
      "https://en.wikipedia.org/wiki/2024_United_States_state_legislative_elections\n",
      "https://www.naco.org/resource/us-elections-analysis-2024-key-outcomes-insights-counties\n",
      "https://www.politico.com/2024-election/results/schedule-calendar-key-dates-events/\n",
      "https://www.brookings.edu/projects/election-24-issues-at-stake/jobs-economy-opportunity/\n"
     ]
    }
   ],
   "source": [
    "# urls = {\n",
    "#     \"https://example.com/home\",\n",
    "#     \"https://example.com/about\",\n",
    "#     \"http://testsite.org/info\",\n",
    "#     \"https://unwanted.com/page\",\n",
    "#     \"https://specificsite.com/path\",\n",
    "#     \"ftp://invalidscheme.com/file\"\n",
    "# }\n",
    "\n",
    "\n",
    "\n",
    "filtered_urls = filter_urls(urls, config)\n",
    "print(len(filtered_urls))\n",
    "for url in filtered_urls:\n",
    "    print(url)\n"
   ]
  },
  {
   "cell_type": "code",
   "execution_count": null,
   "metadata": {},
   "outputs": [],
   "source": []
  },
  {
   "cell_type": "code",
   "execution_count": null,
   "metadata": {},
   "outputs": [],
   "source": []
  }
 ],
 "metadata": {
  "kernelspec": {
   "display_name": ".venv",
   "language": "python",
   "name": "python3"
  },
  "language_info": {
   "codemirror_mode": {
    "name": "ipython",
    "version": 3
   },
   "file_extension": ".py",
   "mimetype": "text/x-python",
   "name": "python",
   "nbconvert_exporter": "python",
   "pygments_lexer": "ipython3",
   "version": "3.12.6"
  }
 },
 "nbformat": 4,
 "nbformat_minor": 2
}
