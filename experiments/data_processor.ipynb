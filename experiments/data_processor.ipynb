{
 "cells": [
  {
   "cell_type": "code",
   "execution_count": 2,
   "metadata": {},
   "outputs": [],
   "source": [
    "import openai\n",
    "from dotenv import load_dotenv\n",
    "import json\n",
    "from datetime import datetime\n",
    "import os \n",
    "\n",
    "load_dotenv()\n",
    "openai_api_key = os.getenv('OPENAI_API_KEY')"
   ]
  },
  {
   "cell_type": "code",
   "execution_count": 36,
   "metadata": {},
   "outputs": [],
   "source": [
    "tools = [\n",
    "    {\n",
    "        \"type\": \"function\",  # Define the function attribute,\n",
    "        \"function\": {\n",
    "            \"name\": \"extract_government_positions\", \n",
    "            \"description\": \"Extract government positions and their details from the provided text\",\n",
    "            \"parameters\": {\n",
    "            \"type\": \"object\",\n",
    "            \"properties\": {\n",
    "                \"town_name\": {\n",
    "                    \"type\": \"string\",\n",
    "                    \"description\": \"Name of the town.\"\n",
    "                },\n",
    "                \"government_positions\": {\n",
    "                    \"type\": \"array\",\n",
    "                    \"description\": \"List of government positions and their details in the town.\",\n",
    "                    \"items\": {\n",
    "                        \"type\": \"object\",\n",
    "                        \"properties\": {\n",
    "                            \"position_title\": {\n",
    "                                \"type\": \"string\",\n",
    "                                \"description\": \"Title of the position.\"\n",
    "                            },\n",
    "                            \"description\": {\n",
    "                                \"type\": \"string\",\n",
    "                                \"description\": \"Description of the position.\"\n",
    "                            },\n",
    "                            \"next_election_date\": {\n",
    "                                \"type\": \"string\",\n",
    "                                \"format\": \"date\",\n",
    "                                \"description\": \"Date of the next election. Only future dates are relevant.\"\n",
    "                            },\n",
    "                            \"filing_window_start\": {\n",
    "                                \"type\": \"string\",\n",
    "                                \"format\": \"date\",\n",
    "                                \"description\": \"Start date of the filing window. Only future dates are relevant.\"\n",
    "                            },\n",
    "                            \"filing_window_end\": {\n",
    "                                \"type\": \"string\",\n",
    "                                \"format\": \"date\",\n",
    "                                \"description\": \"End date of the filing window. Only future dates are relevant.\"\n",
    "                            },\n",
    "                            \"name_of_district\": {\n",
    "                                \"type\": \"string\",\n",
    "                                \"description\": \"Name of the district.\"\n",
    "                            },\n",
    "                            \"state_of_district\": {\n",
    "                                \"type\": \"string\",\n",
    "                                \"description\": \"State of the district.\"\n",
    "                            },\n",
    "                            \"other_relevant_info\": {\n",
    "                                \"type\": \"string\",\n",
    "                                \"description\": \"Any other relevant information.\"\n",
    "                            },\n",
    "                            \"vacancy_date\": {\n",
    "                                \"type\": \"string\",\n",
    "                                \"format\": \"date\",\n",
    "                                \"description\": \"Date when the position will be vacant. Only future dates are relevant.\"\n",
    "                            }\n",
    "                        },\n",
    "                        \"required\": [\"position_title\", \"vacancy_date\"]\n",
    "                    }\n",
    "                }\n",
    "            },\n",
    "            \"required\": [\"town_name\", \"government_positions\"],\n",
    "            \"additionalProperties\": False\n",
    "            }\n",
    "        }\n",
    "    }\n",
    "]\n"
   ]
  },
  {
   "cell_type": "code",
   "execution_count": 37,
   "metadata": {},
   "outputs": [],
   "source": [
    "with open(\"./../shared_data/unstructured_data/ballotpedia.org_List_of_current_mayors_of_the_top_100_cities_in_the_United_States__Fort_Wayne,_Indiana.txt_unstructured.txt\", \"r\") as file:\n",
    "    text_content = file.read()\n"
   ]
  },
  {
   "cell_type": "code",
   "execution_count": 38,
   "metadata": {},
   "outputs": [],
   "source": [
    "# # Read the content of the text file\n",
    "# with open('information.txt', 'r') as file:\n",
    "#     text_content = file.read()\n",
    "\n",
    "# Define the town name\n",
    "from openai import OpenAI\n",
    "client = OpenAI(api_key=openai_api_key)\n",
    "town_name = \"Fort Wayne, Indiana\"\n",
    "\n",
    "# Create the response stream\n",
    "response = client.chat.completions.create(\n",
    "    model=\"gpt-4o\",\n",
    "    messages=[\n",
    "        {\n",
    "            \"role\": \"system\",\n",
    "            \"content\": (\n",
    "                \"You are an expert in extracting government positions and their details from text. \"\n",
    "                \"Always use the provided tool to extract and structure data as required.\"\n",
    "            ),\n",
    "        },\n",
    "        {\n",
    "            \"role\": \"user\",\n",
    "            \"content\": f\"Tell me about the government positions in {town_name}. Here is the information: {text_content}\",\n",
    "        },\n",
    "    ],\n",
    "    tools=tools,\n",
    "    tool_choice=\"required\",\n",
    ")\n",
    "\n"
   ]
  },
  {
   "cell_type": "code",
   "execution_count": 39,
   "metadata": {},
   "outputs": [
    {
     "ename": "AttributeError",
     "evalue": "'NoneType' object has no attribute 'arguments'",
     "output_type": "error",
     "traceback": [
      "\u001b[1;31m---------------------------------------------------------------------------\u001b[0m",
      "\u001b[1;31mAttributeError\u001b[0m                            Traceback (most recent call last)",
      "Cell \u001b[1;32mIn[39], line 2\u001b[0m\n\u001b[0;32m      1\u001b[0m \u001b[38;5;66;03m# Extract the function call arguments\u001b[39;00m\n\u001b[1;32m----> 2\u001b[0m function_call_arguments \u001b[38;5;241m=\u001b[39m \u001b[43mresponse\u001b[49m\u001b[38;5;241;43m.\u001b[39;49m\u001b[43mchoices\u001b[49m\u001b[43m[\u001b[49m\u001b[38;5;241;43m0\u001b[39;49m\u001b[43m]\u001b[49m\u001b[38;5;241;43m.\u001b[39;49m\u001b[43mmessage\u001b[49m\u001b[38;5;241;43m.\u001b[39;49m\u001b[43mfunction_call\u001b[49m\u001b[38;5;241;43m.\u001b[39;49m\u001b[43marguments\u001b[49m\n\u001b[0;32m      4\u001b[0m \u001b[38;5;66;03m# Parse the JSON string into a Python dictionary\u001b[39;00m\n\u001b[0;32m      5\u001b[0m parsed_arguments \u001b[38;5;241m=\u001b[39m json\u001b[38;5;241m.\u001b[39mloads(function_call_arguments)\n",
      "\u001b[1;31mAttributeError\u001b[0m: 'NoneType' object has no attribute 'arguments'"
     ]
    }
   ],
   "source": [
    "# Extract the function call arguments\n",
    "function_call_arguments = response.choices[0].message.function_call.arguments\n",
    "\n",
    "# Parse the JSON string into a Python dictionary\n",
    "parsed_arguments = json.loads(function_call_arguments)\n",
    "\n",
    "# Pretty-print the JSON data\n",
    "pretty_json = json.dumps(parsed_arguments, indent=4)\n",
    "print(pretty_json)"
   ]
  },
  {
   "cell_type": "code",
   "execution_count": 34,
   "metadata": {},
   "outputs": [
    {
     "name": "stdout",
     "output_type": "stream",
     "text": [
      "{\n",
      "    \"town_name\": \"Fort Wayne, Indiana\",\n",
      "    \"government_positions\": [\n",
      "        {\n",
      "            \"position_title\": \"Mayor of Fort Wayne\",\n",
      "            \"description\": \"The Mayor of Fort Wayne is the head of the city government, responsible for overseeing city operations and representing the city at official functions.\",\n",
      "            \"next_election_date\": \"2027\",\n",
      "            \"vacancy_date\": \"April 23, 2024\",\n",
      "            \"other_relevant_info\": \"Sharon Tucker is the current Mayor, representing the Democratic Party.\"\n",
      "        },\n",
      "        {\n",
      "            \"position_title\": \"City Council Member\",\n",
      "            \"description\": \"Members of the City Council represent various districts of Fort Wayne and are responsible for creating legislation, approving budgets, and passing ordinances.\",\n",
      "            \"next_election_date\": \"2027\",\n",
      "            \"vacancy_date\": \"April 23, 2027\",\n",
      "            \"filing_window_start\": \"May 2, 2023\",\n",
      "            \"filing_window_end\": \"July 15, 2023\",\n",
      "            \"other_relevant_info\": \"The City Council consists of 9 members, with 3 elected at large and 6 by districts.\"\n",
      "        }\n",
      "    ]\n",
      "}\n"
     ]
    }
   ],
   "source": [
    "# Extract the function call arguments\n",
    "function_call_arguments = response_stream.choices[0].message.function_call.arguments\n",
    "\n",
    "# Parse the JSON string into a Python dictionary\n",
    "parsed_arguments = json.loads(function_call_arguments)\n",
    "\n",
    "# Pretty-print the JSON data\n",
    "pretty_json = json.dumps(parsed_arguments, indent=4)\n",
    "print(pretty_json)"
   ]
  },
  {
   "cell_type": "code",
   "execution_count": null,
   "metadata": {},
   "outputs": [],
   "source": [
    "# Check if the conversation was too long for the context window\n",
    "if response['choices'][0]['message']['finish_reason'] == \"length\":\n",
    "    print(\"Error: The conversation was too long for the context window.\")\n",
    "    # handle_length_error(response)\n",
    "    \n",
    "# Check if the model's output included copyright material (or similar)\n",
    "if response['choices'][0]['message']['finish_reason'] == \"content_filter\":\n",
    "    print(\"Error: The content was filtered due to policy violations.\")\n",
    "    # handle_content_filter_error(response)\n",
    "    \n",
    "# Check if the model has made a tool_call. This is the case either if the \"finish_reason\" is \"tool_calls\" or if the \"finish_reason\" is \"stop\" and our API request had forced a function call\n",
    "if response['choices'][0]['message']['finish_reason'] == \"stop\":\n",
    " \n",
    "    \n",
    "    \n",
    "# Catch any other case, this is unexpected\n",
    "else:\n",
    "    print(\"Unexpected finish_reason:\", response['choices'][0]['message']['finish_reason'])\n",
    "    # Handle unexpected cases as needed\n",
    "    # handle_unexpected_case(response)"
   ]
  },
  {
   "cell_type": "code",
   "execution_count": 26,
   "metadata": {},
   "outputs": [
    {
     "ename": "AttributeError",
     "evalue": "'tuple' object has no attribute 'choices'",
     "output_type": "error",
     "traceback": [
      "\u001b[1;31m---------------------------------------------------------------------------\u001b[0m",
      "\u001b[1;31mAttributeError\u001b[0m                            Traceback (most recent call last)",
      "Cell \u001b[1;32mIn[26], line 11\u001b[0m\n\u001b[0;32m      9\u001b[0m \u001b[38;5;66;03m# Process the response stream\u001b[39;00m\n\u001b[0;32m     10\u001b[0m \u001b[38;5;28;01mfor\u001b[39;00m response \u001b[38;5;129;01min\u001b[39;00m response_stream:\n\u001b[1;32m---> 11\u001b[0m     choice \u001b[38;5;241m=\u001b[39m \u001b[43mresponse\u001b[49m\u001b[38;5;241;43m.\u001b[39;49m\u001b[43mchoices\u001b[49m[\u001b[38;5;241m0\u001b[39m]\n\u001b[0;32m     12\u001b[0m     function_call \u001b[38;5;241m=\u001b[39m \u001b[38;5;28mgetattr\u001b[39m(choice, \u001b[38;5;124m'\u001b[39m\u001b[38;5;124mfunction_call\u001b[39m\u001b[38;5;124m'\u001b[39m, \u001b[38;5;28;01mNone\u001b[39;00m)\n\u001b[0;32m     13\u001b[0m     \u001b[38;5;28;01mif\u001b[39;00m function_call \u001b[38;5;129;01mand\u001b[39;00m choice\u001b[38;5;241m.\u001b[39mfinish_reason \u001b[38;5;241m==\u001b[39m \u001b[38;5;124m'\u001b[39m\u001b[38;5;124mfunction_call\u001b[39m\u001b[38;5;124m'\u001b[39m:\n",
      "\u001b[1;31mAttributeError\u001b[0m: 'tuple' object has no attribute 'choices'"
     ]
    }
   ],
   "source": [
    "# Function to check if the position is available\n",
    "def is_position_available(vacancy_date_str):\n",
    "    try:\n",
    "        vacancy_date = datetime.strptime(vacancy_date_str, \"%Y-%m-%d\")\n",
    "        return vacancy_date <= datetime.now()\n",
    "    except ValueError:\n",
    "        return \"Invalid date format\"\n",
    "\n",
    "# Process the response stream\n",
    "for response in response_stream:\n",
    "    choice = response.choices[0]\n",
    "    function_call = getattr(choice, 'function_call', None)\n",
    "    if function_call and choice.finish_reason == 'function_call':\n",
    "           if function_call.name == 'extract_government_positions':\n",
    "               parameters = json.loads(function_call.arguments)\n",
    "               town_name = parameters['town_name']\n",
    "               government_positions = parameters['government_positions']\n",
    "               print(f\"Town: {town_name}\")\n",
    "               print(\"Government Positions:\")\n",
    "               for position in government_positions:\n",
    "                print(f\"- Position Title: {position['position_title']}\")\n",
    "                print(f\"  Description: {position.get('description', 'N/A')}\")\n",
    "                print(f\"  Next Election Date: {position.get('next_election_date', 'N/A')}\")\n",
    "                print(f\"  Filing Window Start: {position.get('filing_window_start', 'N/A')}\")\n",
    "                print(f\"  Filing Window End: {position.get('filing_window_end', 'N/A')}\")\n",
    "                print(f\"  Name of District: {position.get('name_of_district', 'N/A')}\")\n",
    "                print(f\"  State of District: {position.get('state_of_district', 'N/A')}\")\n",
    "                print(f\"  Other Relevant Info: {position.get('other_relevant_info', 'N/A')}\")\n",
    "                vacancy_date = position['vacancy_date']\n",
    "                print(f\"  Vacancy Date: {vacancy_date}\")\n",
    "                print(f\"  Is Available: {is_position_available(vacancy_date)}\")\n",
    "    else:\n",
    "        print(choice.message.content)\n"
   ]
  },
  {
   "cell_type": "code",
   "execution_count": null,
   "metadata": {},
   "outputs": [],
   "source": []
  }
 ],
 "metadata": {
  "kernelspec": {
   "display_name": "myenv1",
   "language": "python",
   "name": "python3"
  },
  "language_info": {
   "codemirror_mode": {
    "name": "ipython",
    "version": 3
   },
   "file_extension": ".py",
   "mimetype": "text/x-python",
   "name": "python",
   "nbconvert_exporter": "python",
   "pygments_lexer": "ipython3",
   "version": "3.12.6"
  }
 },
 "nbformat": 4,
 "nbformat_minor": 2
}
