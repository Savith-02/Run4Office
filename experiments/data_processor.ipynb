{
 "cells": [
  {
   "cell_type": "code",
   "execution_count": 3,
   "metadata": {},
   "outputs": [],
   "source": [
    "from dotenv import load_dotenv\n",
    "import json\n",
    "from datetime import datetime\n",
    "import os \n",
    "from openai import OpenAI\n",
    "\n",
    "load_dotenv()\n",
    "openai_api_key = os.getenv('OPENAI_API_KEY')\n",
    "client = OpenAI(api_key=openai_api_key)\n",
    "town_name = \"Fort Wayne, Indiana\""
   ]
  },
  {
   "cell_type": "code",
   "execution_count": 19,
   "metadata": {},
   "outputs": [],
   "source": [
    "tools = [\n",
    "    {\n",
    "        \"type\": \"function\",  # Define the function attribute,\n",
    "        \"function\": {\n",
    "            \"name\": \"extract_government_positions\", \n",
    "            \"description\": \"Extract government positions and their details from the provided text\",\n",
    "            \"parameters\": {\n",
    "            \"type\": \"object\",\n",
    "            \"properties\": {\n",
    "                \"town_name\": {\n",
    "                    \"type\": \"string\",\n",
    "                    \"description\": \"Name of the town.\"\n",
    "                },\n",
    "                \"government_positions\": {\n",
    "                    \"type\": \"array\",\n",
    "                    \"description\": \"List of government positions and their details in the town.\",\n",
    "                    \"items\": {\n",
    "                        \"type\": \"object\",\n",
    "                        \"properties\": {\n",
    "                            \"position_title\": {\n",
    "                                \"type\": \"string\",\n",
    "                                \"description\": \"Title of the position.\"\n",
    "                            },\n",
    "                            \"description\": {\n",
    "                                \"type\": \"string\",\n",
    "                                \"description\": \"Description of the position.\"\n",
    "                            },\n",
    "                            \"next_election_date\": {\n",
    "                                \"type\": \"string\",\n",
    "                                \"format\": \"date\",\n",
    "                                \"description\": \"Date of the next election. Only future dates are relevant.\"\n",
    "                            },\n",
    "                            \"filing_window_start\": {\n",
    "                                \"type\": \"string\",\n",
    "                                \"format\": \"date\",\n",
    "                                \"description\": \"Start date of the filing window. Only future dates are relevant.\"\n",
    "                            },\n",
    "                            \"filing_window_end\": {\n",
    "                                \"type\": \"string\",\n",
    "                                \"format\": \"date\",\n",
    "                                \"description\": \"End date of the filing window. Only future dates are relevant.\"\n",
    "                            },\n",
    "                            \"name_of_district\": {\n",
    "                                \"type\": \"string\",\n",
    "                                \"description\": \"Name of the district.\"\n",
    "                            },\n",
    "                            \"state_of_district\": {\n",
    "                                \"type\": \"string\",\n",
    "                                \"description\": \"State of the district.\"\n",
    "                            },\n",
    "                            \"other_relevant_info\": {\n",
    "                                \"type\": \"string\",\n",
    "                                \"description\": \"Any other relevant information.\"\n",
    "                            },\n",
    "                            \"vacancy_date\": {\n",
    "                                \"type\": \"string\",\n",
    "                                \"format\": \"date\",\n",
    "                                \"description\": \"Date when the position will be vacant. Only future dates are relevant.\"\n",
    "                            }\n",
    "                        },\n",
    "                        \"required\": [\"position_title\", \"vacancy_date\"]\n",
    "                    }\n",
    "                }\n",
    "            },\n",
    "            \"required\": [\"town_name\", \"government_positions\"],\n",
    "            \"additionalProperties\": False\n",
    "            }\n",
    "        }\n",
    "    }\n",
    "]\n"
   ]
  },
  {
   "cell_type": "code",
   "execution_count": 4,
   "metadata": {},
   "outputs": [],
   "source": [
    "with open(\"./../shared_data/unstructured_data/ballotpedia.org_List_of_current_mayors_of_the_top_100_cities_in_the_United_States__Fort_Wayne,_Indiana.txt_unstructured.txt\", \"r\") as file:\n",
    "    text_content = file.read()\n"
   ]
  },
  {
   "cell_type": "code",
   "execution_count": 5,
   "metadata": {},
   "outputs": [
    {
     "name": "stdout",
     "output_type": "stream",
     "text": [
      "URL: https://ballotpedia.org/Fort_Wayne,_Indiana\n",
      "- **Next Mayoral Election**: 2027\n",
      "- **Last Mayoral Election**: 2023\n",
      "- **Next City Council Election**: 2027\n",
      "- **Last City Council Election**: 2023\n",
      "- **City Council Seats**: 9\n",
      "- **Mayor of Fort Wayne**: Sharon Tucker (Democratic Party)\n",
      "- **Assumed Office**: April 23, 2024\n",
      "- **Primary Election Date**: May 2, 2023\n",
      "- **Filing Deadline for Primary**: February 3, 2023\n",
      "- **Filing Deadline for General Election**: July 15, 2023\n",
      "- **Last General Election Dat\n"
     ]
    }
   ],
   "source": [
    "print(text_content[:500])\n"
   ]
  },
  {
   "cell_type": "code",
   "execution_count": 32,
   "metadata": {},
   "outputs": [],
   "source": [
    "\n",
    "response = client.chat.completions.create(\n",
    "    model=\"gpt-4o\",\n",
    "    messages=[\n",
    "        {\n",
    "            \"role\": \"system\",\n",
    "            \"content\": (\n",
    "                \"You are an expert in extracting government positions and their details from text. \"\n",
    "                \"Always use the provided tool to extract and structure data as required.\"\n",
    "            ),\n",
    "        },\n",
    "        {\n",
    "            \"role\": \"user\",\n",
    "            \"content\": f\"Tell me about the government positions in {town_name}. Here is the information: {text_content}\",\n",
    "        },\n",
    "    ],\n",
    "    temperature=0.0,\n",
    "    tools=tools,\n",
    "    tool_choice={\"type\": \"function\", \"function\": {\"name\": \"extract_government_positions\"}},\n",
    "    # tool_choice= \"required\",\n",
    ")\n"
   ]
  },
  {
   "cell_type": "code",
   "execution_count": 33,
   "metadata": {},
   "outputs": [
    {
     "name": "stdout",
     "output_type": "stream",
     "text": [
      "{\n",
      "    \"town_name\": \"Fort Wayne\",\n",
      "    \"government_positions\": [\n",
      "        {\n",
      "            \"position_title\": \"Mayor of Fort Wayne\",\n",
      "            \"description\": \"The Mayor of Fort Wayne is the chief executive officer of the city, responsible for overseeing the city's administration and operations.\",\n",
      "            \"next_election_date\": \"2027-11-02\",\n",
      "            \"vacancy_date\": \"2024-04-23\"\n",
      "        },\n",
      "        {\n",
      "            \"position_title\": \"City Council Member\",\n",
      "            \"description\": \"Members of the Fort Wayne City Council are responsible for representing the interests of their constituents, passing local laws, and overseeing the city's budget.\",\n",
      "            \"next_election_date\": \"2027-11-02\",\n",
      "            \"vacancy_date\": \"2024-12-03\",\n",
      "            \"other_relevant_info\": \"The City Council consists of 9 members, 3 elected at large and 6 by districts.\"\n",
      "        }\n",
      "    ]\n",
      "}\n"
     ]
    }
   ],
   "source": [
    "function_call_arguments = response.choices[0].message.tool_calls[0].function.arguments\n",
    "parsed_arguments = json.loads(function_call_arguments)\n",
    "\n",
    "# Pretty-print the JSON data\n",
    "pretty_json = json.dumps(parsed_arguments, indent=4)\n",
    "print(pretty_json)\n"
   ]
  },
  {
   "cell_type": "code",
   "execution_count": null,
   "metadata": {},
   "outputs": [],
   "source": [
    "# function_call_arguments = response.choices[0].message.function_call.arguments\n",
    "# parsed_arguments = json.loads(function_call_arguments)\n",
    "# pretty_json = json.dumps(parsed_arguments, indent=4)\n",
    "# print(pretty_json)"
   ]
  },
  {
   "cell_type": "code",
   "execution_count": 34,
   "metadata": {},
   "outputs": [
    {
     "name": "stdout",
     "output_type": "stream",
     "text": [
      "{\n",
      "    \"town_name\": \"Fort Wayne, Indiana\",\n",
      "    \"government_positions\": [\n",
      "        {\n",
      "            \"position_title\": \"Mayor of Fort Wayne\",\n",
      "            \"description\": \"The Mayor of Fort Wayne is the head of the city government, responsible for overseeing city operations and representing the city at official functions.\",\n",
      "            \"next_election_date\": \"2027\",\n",
      "            \"vacancy_date\": \"April 23, 2024\",\n",
      "            \"other_relevant_info\": \"Sharon Tucker is the current Mayor, representing the Democratic Party.\"\n",
      "        },\n",
      "        {\n",
      "            \"position_title\": \"City Council Member\",\n",
      "            \"description\": \"Members of the City Council represent various districts of Fort Wayne and are responsible for creating legislation, approving budgets, and passing ordinances.\",\n",
      "            \"next_election_date\": \"2027\",\n",
      "            \"vacancy_date\": \"April 23, 2027\",\n",
      "            \"filing_window_start\": \"May 2, 2023\",\n",
      "            \"filing_window_end\": \"July 15, 2023\",\n",
      "            \"other_relevant_info\": \"The City Council consists of 9 members, with 3 elected at large and 6 by districts.\"\n",
      "        }\n",
      "    ]\n",
      "}\n"
     ]
    }
   ],
   "source": [
    "# Extract the function call arguments\n",
    "function_call_arguments = response.choices[0].message.function_call.arguments\n",
    "\n",
    "# Parse the JSON string into a Python dictionary\n",
    "parsed_arguments = json.loads(function_call_arguments)\n",
    "\n",
    "# Pretty-print the JSON data\n",
    "pretty_json = json.dumps(parsed_arguments, indent=4)\n",
    "print(pretty_json)"
   ]
  },
  {
   "cell_type": "code",
   "execution_count": 34,
   "metadata": {},
   "outputs": [
    {
     "ename": "AttributeError",
     "evalue": "'ChatCompletionMessage' object has no attribute 'finish_reason'",
     "output_type": "error",
     "traceback": [
      "\u001b[1;31m---------------------------------------------------------------------------\u001b[0m",
      "\u001b[1;31mAttributeError\u001b[0m                            Traceback (most recent call last)",
      "Cell \u001b[1;32mIn[34], line 2\u001b[0m\n\u001b[0;32m      1\u001b[0m \u001b[38;5;66;03m# Check if the conversation was too long for the context window\u001b[39;00m\n\u001b[1;32m----> 2\u001b[0m \u001b[38;5;28;01mif\u001b[39;00m \u001b[43mresponse\u001b[49m\u001b[38;5;241;43m.\u001b[39;49m\u001b[43mchoices\u001b[49m\u001b[43m[\u001b[49m\u001b[38;5;241;43m0\u001b[39;49m\u001b[43m]\u001b[49m\u001b[38;5;241;43m.\u001b[39;49m\u001b[43mmessage\u001b[49m\u001b[38;5;241;43m.\u001b[39;49m\u001b[43mfinish_reason\u001b[49m \u001b[38;5;241m==\u001b[39m \u001b[38;5;124m\"\u001b[39m\u001b[38;5;124mlength\u001b[39m\u001b[38;5;124m\"\u001b[39m:\n\u001b[0;32m      3\u001b[0m     \u001b[38;5;28mprint\u001b[39m(\u001b[38;5;124m\"\u001b[39m\u001b[38;5;124mError: The conversation was too long for the context window.\u001b[39m\u001b[38;5;124m\"\u001b[39m)\n\u001b[0;32m      4\u001b[0m     \u001b[38;5;66;03m# handle_length_error(response)\u001b[39;00m\n\u001b[0;32m      5\u001b[0m     \n\u001b[0;32m      6\u001b[0m \u001b[38;5;66;03m# Check if the model's output included copyright material (or similar)\u001b[39;00m\n",
      "File \u001b[1;32me:\\WORK\\langchains\\run4Office\\.venv\\Lib\\site-packages\\pydantic\\main.py:892\u001b[0m, in \u001b[0;36mBaseModel.__getattr__\u001b[1;34m(self, item)\u001b[0m\n\u001b[0;32m    889\u001b[0m     \u001b[38;5;28;01mreturn\u001b[39;00m \u001b[38;5;28msuper\u001b[39m()\u001b[38;5;241m.\u001b[39m\u001b[38;5;21m__getattribute__\u001b[39m(item)  \u001b[38;5;66;03m# Raises AttributeError if appropriate\u001b[39;00m\n\u001b[0;32m    890\u001b[0m \u001b[38;5;28;01melse\u001b[39;00m:\n\u001b[0;32m    891\u001b[0m     \u001b[38;5;66;03m# this is the current error\u001b[39;00m\n\u001b[1;32m--> 892\u001b[0m     \u001b[38;5;28;01mraise\u001b[39;00m \u001b[38;5;167;01mAttributeError\u001b[39;00m(\u001b[38;5;124mf\u001b[39m\u001b[38;5;124m'\u001b[39m\u001b[38;5;132;01m{\u001b[39;00m\u001b[38;5;28mtype\u001b[39m(\u001b[38;5;28mself\u001b[39m)\u001b[38;5;241m.\u001b[39m\u001b[38;5;18m__name__\u001b[39m\u001b[38;5;132;01m!r}\u001b[39;00m\u001b[38;5;124m object has no attribute \u001b[39m\u001b[38;5;132;01m{\u001b[39;00mitem\u001b[38;5;132;01m!r}\u001b[39;00m\u001b[38;5;124m'\u001b[39m)\n",
      "\u001b[1;31mAttributeError\u001b[0m: 'ChatCompletionMessage' object has no attribute 'finish_reason'"
     ]
    }
   ],
   "source": [
    "# Check if the conversation was too long for the context window\n",
    "if response.choices[0].message.finish_reason == \"length\":\n",
    "    print(\"Error: The conversation was too long for the context window.\")\n",
    "    # handle_length_error(response)\n",
    "    \n",
    "# Check if the model's output included copyright material (or similar)\n",
    "if response.choices[0].message.finish_reason == \"content_filter\":\n",
    "    print(\"Error: The content was filtered due to policy violations.\")\n",
    "    # handle_content_filter_error(response)\n",
    "    \n",
    "# Check if the model has made a tool_call. This is the case either if the \"finish_reason\" is \"tool_calls\" or if the \"finish_reason\" is \"stop\" and our API request had forced a function call\n",
    "if response.choices[0].message.finish_reason == \"stop\":\n",
    "    print(\"Tool call finished\")\n",
    "    \n",
    "    \n",
    "# Catch any other case, this is unexpected\n",
    "else:\n",
    "    print(\"Unexpected finish_reason:\", response.choices[0].message.finish_reason)\n",
    "    # Handle unexpected cases as needed\n",
    "    # handle_unexpected_case(response)"
   ]
  },
  {
   "cell_type": "code",
   "execution_count": 26,
   "metadata": {},
   "outputs": [
    {
     "ename": "AttributeError",
     "evalue": "'tuple' object has no attribute 'choices'",
     "output_type": "error",
     "traceback": [
      "\u001b[1;31m---------------------------------------------------------------------------\u001b[0m",
      "\u001b[1;31mAttributeError\u001b[0m                            Traceback (most recent call last)",
      "Cell \u001b[1;32mIn[26], line 11\u001b[0m\n\u001b[0;32m      9\u001b[0m \u001b[38;5;66;03m# Process the response stream\u001b[39;00m\n\u001b[0;32m     10\u001b[0m \u001b[38;5;28;01mfor\u001b[39;00m response \u001b[38;5;129;01min\u001b[39;00m response_stream:\n\u001b[1;32m---> 11\u001b[0m     choice \u001b[38;5;241m=\u001b[39m \u001b[43mresponse\u001b[49m\u001b[38;5;241;43m.\u001b[39;49m\u001b[43mchoices\u001b[49m[\u001b[38;5;241m0\u001b[39m]\n\u001b[0;32m     12\u001b[0m     function_call \u001b[38;5;241m=\u001b[39m \u001b[38;5;28mgetattr\u001b[39m(choice, \u001b[38;5;124m'\u001b[39m\u001b[38;5;124mfunction_call\u001b[39m\u001b[38;5;124m'\u001b[39m, \u001b[38;5;28;01mNone\u001b[39;00m)\n\u001b[0;32m     13\u001b[0m     \u001b[38;5;28;01mif\u001b[39;00m function_call \u001b[38;5;129;01mand\u001b[39;00m choice\u001b[38;5;241m.\u001b[39mfinish_reason \u001b[38;5;241m==\u001b[39m \u001b[38;5;124m'\u001b[39m\u001b[38;5;124mfunction_call\u001b[39m\u001b[38;5;124m'\u001b[39m:\n",
      "\u001b[1;31mAttributeError\u001b[0m: 'tuple' object has no attribute 'choices'"
     ]
    }
   ],
   "source": [
    "# Function to check if the position is available\n",
    "def is_position_available(vacancy_date_str):\n",
    "    try:\n",
    "        vacancy_date = datetime.strptime(vacancy_date_str, \"%Y-%m-%d\")\n",
    "        return vacancy_date <= datetime.now()\n",
    "    except ValueError:\n",
    "        return \"Invalid date format\"\n",
    "\n",
    "# Process the response stream\n",
    "for response in response:\n",
    "    choice = response.choices[0]\n",
    "    function_call = getattr(choice, 'function_call', None)\n",
    "    if function_call and choice.finish_reason == 'function_call':\n",
    "           if function_call.name == 'extract_government_positions':\n",
    "               parameters = json.loads(function_call.arguments)\n",
    "               town_name = parameters['town_name']\n",
    "               government_positions = parameters['government_positions']\n",
    "               print(f\"Town: {town_name}\")\n",
    "               print(\"Government Positions:\")\n",
    "               for position in government_positions:\n",
    "                print(f\"- Position Title: {position['position_title']}\")\n",
    "                print(f\"  Description: {position.get('description', 'N/A')}\")\n",
    "                print(f\"  Next Election Date: {position.get('next_election_date', 'N/A')}\")\n",
    "                print(f\"  Filing Window Start: {position.get('filing_window_start', 'N/A')}\")\n",
    "                print(f\"  Filing Window End: {position.get('filing_window_end', 'N/A')}\")\n",
    "                print(f\"  Name of District: {position.get('name_of_district', 'N/A')}\")\n",
    "                print(f\"  State of District: {position.get('state_of_district', 'N/A')}\")\n",
    "                print(f\"  Other Relevant Info: {position.get('other_relevant_info', 'N/A')}\")\n",
    "                vacancy_date = position['vacancy_date']\n",
    "                print(f\"  Vacancy Date: {vacancy_date}\")\n",
    "                print(f\"  Is Available: {is_position_available(vacancy_date)}\")\n",
    "    else:\n",
    "        print(choice.message.content)\n"
   ]
  },
  {
   "cell_type": "code",
   "execution_count": 10,
   "metadata": {},
   "outputs": [],
   "source": [
    "import json\n",
    "\n",
    "def use_llm_for_position_data_with_tool(position, text):\n",
    "    \"\"\"\n",
    "    Uses an LLM to extract structured data in JSON format for a specific position using a tool definition. \n",
    "    Extracts information like position title, description, election dates, filing window, and other details.\n",
    "    Returns only the relevant extracted information in JSON format.\n",
    "    \"\"\"\n",
    "    # Tool definition\n",
    "    tools = [\n",
    "        {\n",
    "            \"type\": \"function\",\n",
    "            \"function\": {\n",
    "                \"name\": \"extract_government_positions\",\n",
    "                \"description\": \"Extract government position details from the provided text\",\n",
    "                \"parameters\": {\n",
    "                    \"type\": \"object\",\n",
    "                    \"properties\": {\n",
    "                        \"position_title\": {\"type\": \"string\", \"description\": \"Title of the position.\"},\n",
    "                        \"description\": {\"type\": \"string\", \"description\": \"Description of the position.\"},\n",
    "                        \"next_election_date\": {\"type\": \"string\", \"format\": \"date\", \"description\": \"Date of the next election. Only future dates are relevant.\"},\n",
    "                        \"filing_window_start\": {\"type\": \"string\", \"format\": \"date\", \"description\": \"Start date of the filing window. Only future dates are relevant.\"},\n",
    "                        \"filing_window_end\": {\"type\": \"string\", \"format\": \"date\", \"description\": \"End date of the filing window. Only future dates are relevant.\"},\n",
    "                        \"name_of_district\": {\"type\": \"string\", \"description\": \"Name of the district.\"},\n",
    "                        \"state_of_district\": {\"type\": \"string\", \"description\": \"State of the district.\"},\n",
    "                        \"other_relevant_info\": {\"type\": \"string\", \"description\": \"Any other relevant information.\"},\n",
    "                        \"vacancy_date\": {\"type\": \"string\", \"format\": \"date\", \"description\": \"Date when the position will be vacant. Only future dates are relevant.\"}\n",
    "                    },\n",
    "                    \"additionalProperties\": False\n",
    "                }\n",
    "            }\n",
    "        }\n",
    "    ]\n",
    "\n",
    "    # System prompt with tool description\n",
    "    system_prompt = (\n",
    "        \"You are an expert in extracting structured information about government positions. \"\n",
    "        \"You will use the following tool to extract detailed information from the provided text. \"\n",
    "        \"Ensure that the extracted data follows the tool's parameter definitions and output format. \"\n",
    "        \"Return the output strictly in JSON format, matching the tool's parameters.\"\n",
    "    )\n",
    "\n",
    "    # User prompt\n",
    "    user_prompt = f\"Extract all relevant data for the following position: '{position}'.\\n\\nText: {text}\"\n",
    "\n",
    "    try:\n",
    "        # LLM call\n",
    "        response = client.chat.completions.create(\n",
    "            model=\"gpt-4\",\n",
    "            messages=[\n",
    "                {\"role\": \"system\", \"content\": system_prompt},\n",
    "                {\"role\": \"user\", \"content\": user_prompt},\n",
    "            ],\n",
    "            tools=tools,  # Pass tools definition\n",
    "            tool_choice={\"type\": \"function\", \"function\": {\"name\": \"extract_government_positions\"}}  # Explicitly invoke the defined tool\n",
    "        )\n",
    "\n",
    "        # Parse response to extract JSON\n",
    "        extracted_data = response.choices[0].message.tool_calls[0].function.arguments\n",
    "        position_data_dict = json.loads(extracted_data)\n",
    "\n",
    "        # Validate response content\n",
    "        if not position_data_dict:\n",
    "            print(f\"No data extracted for position: {position}. Skipping this position.\")\n",
    "            return None\n",
    "\n",
    "        return position_data_dict\n",
    "    except Exception as e:\n",
    "        print(f\"Error extracting data for position {position}: {e}\")\n",
    "        return None\n"
   ]
  },
  {
   "cell_type": "code",
   "execution_count": 11,
   "metadata": {},
   "outputs": [
    {
     "data": {
      "text/plain": [
       "{'position_title': 'Mayor of Fort Wayne',\n",
       " 'description': \"The mayor of Fort Wayne is the top executive of the city, working with the city council to govern the city. The mayor is elected by the city's residents.\",\n",
       " 'next_election_date': '2027',\n",
       " 'filing_window_start': 'Not specified',\n",
       " 'filing_window_end': 'Not specified',\n",
       " 'name_of_district': 'Fort Wayne',\n",
       " 'state_of_district': 'Indiana',\n",
       " 'other_relevant_info': 'The current mayor of Fort Wayne is Sharon Tucker from the Democratic Party. She assumed office on April 23, 2024. The city operates under a strong mayor and city council system.',\n",
       " 'vacancy_date': 'Not specified'}"
      ]
     },
     "execution_count": 11,
     "metadata": {},
     "output_type": "execute_result"
    }
   ],
   "source": [
    "use_llm_for_position_data_with_tool(\"Mayor of Fort Wayne\", text_content)"
   ]
  },
  {
   "cell_type": "code",
   "execution_count": null,
   "metadata": {},
   "outputs": [],
   "source": []
  }
 ],
 "metadata": {
  "kernelspec": {
   "display_name": "myenv1",
   "language": "python",
   "name": "python3"
  },
  "language_info": {
   "codemirror_mode": {
    "name": "ipython",
    "version": 3
   },
   "file_extension": ".py",
   "mimetype": "text/x-python",
   "name": "python",
   "nbconvert_exporter": "python",
   "pygments_lexer": "ipython3",
   "version": "3.12.6"
  }
 },
 "nbformat": 4,
 "nbformat_minor": 2
}
