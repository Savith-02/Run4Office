{
 "cells": [
  {
   "cell_type": "code",
   "execution_count": 3,
   "metadata": {},
   "outputs": [],
   "source": [
    "import os\n",
    "from tavily import TavilyClient\n",
    "\n",
    "# Step 1. Instantiating your TavilyClient\n",
    "api_key = os.getenv(\"TAVIL_API_KEY\")\n",
    "tavily_client = TavilyClient(api_key=api_key)\n",
    "# Initialize Tavily client\n"
   ]
  },
  {
   "cell_type": "code",
   "execution_count": 4,
   "metadata": {},
   "outputs": [],
   "source": [
    "# Define your query\n",
    "query = \"Local government vacancies of 2024 onwards and upcoming election information in the USA\""
   ]
  },
  {
   "cell_type": "code",
   "execution_count": 5,
   "metadata": {},
   "outputs": [],
   "source": [
    "query = \"Give me a description off https://www.opensecrets.org/outside-spending/super_pacs\"\n"
   ]
  },
  {
   "cell_type": "code",
   "execution_count": 8,
   "metadata": {},
   "outputs": [
    {
     "name": "stdout",
     "output_type": "stream",
     "text": [
      "Relevant URLs:\n",
      "https://www.opensecrets.org/outside-spending/super_pacs\n",
      "https://www.opensecrets.org/outside-spending/super_pacs/2022?chart=P&disp=O\n",
      "https://www.opensecrets.org/outsidespending./\n",
      "https://www.commondreams.org/news/dark-money-spending\n",
      "https://www.opensecrets.org/dark-money/basics\n",
      "https://truthout.org/articles/outside-spending-on-2024-election-tops-318-million-outpacing-past-elections/\n",
      "https://www.opensecrets.org/news/2020/11/mcconnell-linked-super-pacs-dominate-outside-spending-in-georgia-runoffs/\n",
      "https://www.tucsonsentinel.com/nationworld/report/101024_election_spending/total-2024-election-spending-projected-exceed-previous-record/\n",
      "https://www.opensecrets.org/news/2024/11/big-money-big-stakes-5-things-everyone-should-know-about-money-in-2024-election/\n",
      "https://www.reddit.com/r/IAmA/comments/12qs90/we_are_opensecretsorg_the_nonpartisan_research/\n"
     ]
    }
   ],
   "source": [
    "\n",
    "# Set parameters for Tavily search\n",
    "response = tavily_client.search(\n",
    "    query=query,\n",
    "    include_answer=True,  # Exclude direct answers, focus on results\n",
    "    include_images=False,  # Exclude images\n",
    "    max_results=10         # Limit results for relevance\n",
    ")\n",
    "\n",
    "# Process and extract relevant URLs\n",
    "if response and \"results\" in response:\n",
    "    urls = [result[\"url\"] for result in response[\"results\"] if \"url\" in result]\n",
    "    print(\"Relevant URLs:\")\n",
    "    for url in urls:\n",
    "        print(url)\n",
    "else:\n",
    "    print(\"No relevant results found.\")\n"
   ]
  },
  {
   "cell_type": "code",
   "execution_count": 11,
   "metadata": {},
   "outputs": [
    {
     "name": "stdout",
     "output_type": "stream",
     "text": [
      "The page on OpenSecrets provides detailed insights into the financial activities of super PACs for the 2024 election cycle. It focuses on tracking outside spending by various political groups, including super PACs, party committees, and \"dark money\" organizations. OpenSecrets is recognized as a leading research organization that monitors the influence of money in U.S. politics and its implications for elections and public policy. The site aims to enhance public understanding of how financial contributions shape political landscapes, particularly through independent expenditures made by super PACs, which are allowed to raise and spend unlimited amounts of money without coordinating with candidates.\n"
     ]
    }
   ],
   "source": [
    "print(response[\"answer\"])\n"
   ]
  },
  {
   "cell_type": "code",
   "execution_count": 7,
   "metadata": {},
   "outputs": [],
   "source": [
    "import requests"
   ]
  },
  {
   "cell_type": "code",
   "execution_count": 9,
   "metadata": {},
   "outputs": [],
   "source": [
    "# Define your API key and other parameters\n",
    "query = \"Local government vacancies of 2024 onwards and upcoming election information in the USA\"\n",
    "date_restrict = \"y3\"\n",
    "or_terms = \"elections, public office, candidacy filing, ballot measures, election boards, government positions, usa\"\n",
    "\n",
    "# Construct the URL\n",
    "url = \"https://www.googleapis.com/customsearch/v1\"\n",
    "params = {\n",
    "    \"key\": os.getenv(\"SEARCH_ENGINE_API_KEY\"),\n",
    "    \"cx\": os.getenv(\"CX\"),\n",
    "    \"q\": query,\n",
    "    \"hl\": \"en\",\n",
    "    \"cr\": \"countryUS\",\n",
    "    \"gl\": \"us\",\n",
    "    \"lr\": \"lang_en\",\n",
    "    \"num\": 10,\n",
    "    \"dateRestrict\": \"y3\",\n",
    "    \"orTerms\": \"elections, public office, candidacy filing, ballot measures, election boards, government positions, usa\"\n",
    "}\n"
   ]
  },
  {
   "cell_type": "code",
   "execution_count": 11,
   "metadata": {},
   "outputs": [
    {
     "name": "stdout",
     "output_type": "stream",
     "text": [
      "10\n",
      "https://www.whitehouse.gov/wp-content/uploads/2023/03/budget_fy2024.pdf\n",
      "https://denver.prelive.opencities.com/files/assets/public/v/1/clerk-and-recorder/documents/elections/2024/11.5-general/english-2024-ballot-info-booklet-text-only.pdf\n",
      "https://www.federalregister.gov/documents/2024/04/24/2024-07758/nondiscrimination-on-the-basis-of-disability-accessibility-of-web-information-and-services-of-state\n",
      "https://acvote.alamedacountyca.gov/acvote-assets/02_election_information/PDFs/20241105/en/Voter%20Information%20Guide/Composite%20Voter%20Information%20Guide.pdf\n",
      "https://www.federalregister.gov/documents/2022/09/30/2022-21020/beneficial-ownership-information-reporting-requirements\n",
      "https://www.opensecrets.org/outside-spending/super_pacs\n",
      "https://whyy.org/articles/trump-election-2024-policy-proposals/\n",
      "https://tlc.texas.gov/docs/amendments/Constamend1876.pdf\n",
      "https://budget.illinois.gov/content/dam/soi/en/web/budget/documents/budget-book/fy2024-budget-book/Fiscal-Year-2024-Operating-Budget.pdf\n",
      "https://www.piercecountywa.gov/380/Press-Releases\n"
     ]
    }
   ],
   "source": [
    "response = requests.get(url, params=params)\n",
    "\n",
    "# Check if the request was successful\n",
    "if response.status_code == 200:\n",
    "    # Parse the JSON response\n",
    "    data = response.json()\n",
    "    # print(data.keys())\n",
    "    # Extract URLs from the response\n",
    "    urls = [item['link'] for item in data.get('items', [])]\n",
    "    print(len(urls))\n",
    "    for url in urls:\n",
    "        print(url)\n",
    "else:\n",
    "    print(f\"Error: {response.status_code} - {response.text}\")"
   ]
  },
  {
   "cell_type": "code",
   "execution_count": null,
   "metadata": {},
   "outputs": [],
   "source": []
  }
 ],
 "metadata": {
  "kernelspec": {
   "display_name": ".venv",
   "language": "python",
   "name": "python3"
  },
  "language_info": {
   "codemirror_mode": {
    "name": "ipython",
    "version": 3
   },
   "file_extension": ".py",
   "mimetype": "text/x-python",
   "name": "python",
   "nbconvert_exporter": "python",
   "pygments_lexer": "ipython3",
   "version": "3.12.6"
  }
 },
 "nbformat": 4,
 "nbformat_minor": 2
}
